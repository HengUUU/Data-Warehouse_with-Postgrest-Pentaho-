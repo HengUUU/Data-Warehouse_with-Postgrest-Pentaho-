{
 "cells": [
  {
   "cell_type": "code",
   "execution_count": 2,
   "metadata": {},
   "outputs": [],
   "source": [
    "import numpy as np\n",
    "import pandas as pd\n",
    "import matplotlib as plt"
   ]
  },
  {
   "cell_type": "code",
   "execution_count": 3,
   "metadata": {},
   "outputs": [],
   "source": [
    "df = pd.read_csv(\"data_1.1.csv\").to_numpy()\n",
    "# print(df[:5])\n",
    "# x = df[:,0]\n",
    "# y = df[:,-1]\n",
    "df = np.hstack((np.ones((df.shape[0],1)), df))\n",
    "x = df[:,:-1]\n",
    "y = df[:,-1].reshape(-1,1)\n",
    "# data = np.column_stack((x,y))"
   ]
  },
  {
   "cell_type": "code",
   "execution_count": 4,
   "metadata": {},
   "outputs": [],
   "source": [
    "import numpy as np\n",
    "import pandas as pd\n",
    "\n",
    "# Set a random seed for reproducibility\n",
    "np.random.seed(42)\n",
    "\n",
    "# Generate 500 random values for X (independent variable) between 0 and 10\n",
    "X = 10 * np.random.rand(500, 1)\n",
    "\n",
    "# Define the true linear relationship: y = 5 + 2.5 * X + noise\n",
    "true_slope = 2.5\n",
    "true_intercept = 5\n",
    "noise = np.random.randn(500, 1)  # Add some noise for realism\n",
    "\n",
    "# Generate the dependent variable y\n",
    "y = true_intercept + true_slope * X + noise\n",
    "\n",
    "# Combine X and y into a DataFrame\n",
    "dataset = pd.DataFrame(np.c_[X, y], columns=['X', 'y'])\n",
    "dataset = dataset.to_numpy()\n",
    "# Show the first few rows of the dataset\n",
    "dataset = np.hstack((np.ones((dataset.shape[0],1)), dataset))\n",
    "\n",
    "x_gen = dataset[:,:-1]\n",
    "y_gen = dataset[:,-1].reshape(-1,1)\n",
    "# Save to a CSV file if needed\n",
    "# dataset.to_csv(\"linear_regression_dataset.csv\", index=False)\n"
   ]
  },
  {
   "cell_type": "code",
   "execution_count": 5,
   "metadata": {},
   "outputs": [
    {
     "name": "stdout",
     "output_type": "stream",
     "text": [
      "(500, 2)\n",
      "(500, 1)\n"
     ]
    }
   ],
   "source": [
    "print(x_gen.shape)\n",
    "print(y_gen.shape)"
   ]
  },
  {
   "cell_type": "code",
   "execution_count": 7,
   "metadata": {},
   "outputs": [],
   "source": [
    "# theta, error_list = gradientDescent(x_gen,y_gen)"
   ]
  },
  {
   "cell_type": "code",
   "execution_count": 8,
   "metadata": {},
   "outputs": [],
   "source": [
    "# import matplotlib.pyplot as plt\n",
    "# plt.plot(error_list)\n",
    "# plt.xlim([0,])\n"
   ]
  },
  {
   "cell_type": "markdown",
   "metadata": {},
   "source": [
    "`Modify formula`"
   ]
  },
  {
   "cell_type": "code",
   "execution_count": 9,
   "metadata": {},
   "outputs": [],
   "source": [
    "# df = pd.read_csv(\"data_1.1.csv\").to_numpy()\n",
    "# # print(df[:5])\n",
    "# x = df[:,0]\n",
    "# y = df[:,-1]\n"
   ]
  },
  {
   "cell_type": "code",
   "execution_count": 16,
   "metadata": {},
   "outputs": [],
   "source": [
    "import numpy as np\n",
    "import matplotlib.pyplot as plt\n",
    " \n",
    "# creating data\n",
    "mean = np.array([5.0, 6.0])\n",
    "cov = np.array([[1.0, 0.95], [0.95, 1.2]])\n",
    "data = np.random.multivariate_normal(mean, cov, 8000)\n",
    "\n",
    "# print(data)\n",
    "# visualising data\n",
    "# plt.scatter(data[:500, 0], data[:500, 1], marker='.')\n",
    "# plt.show()\n",
    " \n",
    "# train-test-split\n",
    "data = np.hstack((np.ones((data.shape[0], 1)), data))\n",
    "# print(data)\n",
    " \n",
    "split_factor = 0.90\n",
    "split = int(split_factor * data.shape[0])\n",
    " \n",
    "X_train = data[:split, :-1]\n",
    "y_train = data[:split, -1].reshape((-1, 1))\n",
    "X_test = data[split:, :-1]\n",
    "y_test = data[split:, -1].reshape((-1, 1))\n",
    " \n"
   ]
  },
  {
   "cell_type": "code",
   "execution_count": 17,
   "metadata": {},
   "outputs": [],
   "source": [
    "def hypothesis(a,x,b,c):\n",
    "    return np.sqrt(x)*a + b*x + c\n",
    "\n",
    "def cost_function(y,a,x,b,c):\n",
    "    h = hypothesis(a,x,b,c)\n",
    "    cost = (h - y)**2\n",
    "    return cost.mean()\n",
    "\n",
    "def gradient_a(y,a,x,b,c):\n",
    "    h = hypothesis(a,x,b,c)\n",
    "    grada = (h - y)*np.sqrt(x)\n",
    "    return 2*np.mean(grada)\n",
    "\n",
    "def gradient_b(y,a,x,b,c):\n",
    "    h = hypothesis(a,x,b,c)\n",
    "    gradb = (h-y)*x\n",
    "    return 2*np.mean(gradb)\n",
    "\n",
    "def gradient_c(y,a,x,b,c):\n",
    "    h = hypothesis(a,x,b,c)\n",
    "    gradc = (h-y)\n",
    "    return 2*np.mean(gradc)\n",
    "\n"
   ]
  },
  {
   "cell_type": "code",
   "execution_count": 18,
   "metadata": {},
   "outputs": [],
   "source": [
    "def create_mini_batch(x,y,batch_size):\n",
    "    mini_batches = []\n",
    "    df = np.hstack((x,y))\n",
    "    np.random.shuffle(df)\n",
    "    n_mini_batch = len(df) // batch_size #(we want to get only int not flot number)\n",
    "    i = 0\n",
    "    for i in range(n_mini_batch + 1):\n",
    "        mini_batch = df[i*batch_size:(i+1)*batch_size,:]\n",
    "        x_mini = mini_batch[:,:-1]\n",
    "        y_mini = mini_batch[:,-1]\n",
    "        mini_batches.append((x_mini,y_mini))\n",
    "    if df.shape[0] % batch_size != 0:\n",
    "        mini_batch = df[i*batch_size:df.shape[0]] \n",
    "        x_mini = mini_batch[:,:-1]\n",
    "        y_mini = mini_batch[:,-1].reshape((-1,1))\n",
    "        mini_batches.append((x_mini,y_mini))\n",
    "    return mini_batches"
   ]
  },
  {
   "cell_type": "code",
   "execution_count": 19,
   "metadata": {},
   "outputs": [],
   "source": [
    "def gradienDescent(x,y,lr = 0.001, batc_s = 50):\n",
    "    a,b,c = 0,0,0\n",
    "    error_list = []\n",
    "    max_iter = 5\n",
    "    for itr in range(max_iter):\n",
    "        miniBatches =  create_mini_batch(x,y,batc_s)\n",
    "        for mini in miniBatches:\n",
    "            x_mini,y_mini = mini\n",
    "            a = a - lr*gradient_a(y_mini,a,x_mini,b,c)\n",
    "            b = b - lr*gradient_b(y_mini,a,x_mini,b,c)\n",
    "            c = c - lr*gradient_c(y_mini,a,x_mini,b,c)\n",
    "            error_list.append(cost_function(y_mini,a,x_mini,b,c))\n",
    "        \n",
    "    return a,b,c, error_list\n",
    "            "
   ]
  },
  {
   "cell_type": "code",
   "execution_count": 20,
   "metadata": {},
   "outputs": [
    {
     "data": {
      "text/plain": [
       "51"
      ]
     },
     "execution_count": 20,
     "metadata": {},
     "output_type": "execute_result"
    }
   ],
   "source": [
    "list = create_mini_batch(x_gen,y_gen,10)\n",
    "len(list)"
   ]
  },
  {
   "cell_type": "code",
   "execution_count": 21,
   "metadata": {},
   "outputs": [
    {
     "ename": "ValueError",
     "evalue": "operands could not be broadcast together with shapes (50,2) (50,) ",
     "output_type": "error",
     "traceback": [
      "\u001b[1;31m---------------------------------------------------------------------------\u001b[0m",
      "\u001b[1;31mValueError\u001b[0m                                Traceback (most recent call last)",
      "Cell \u001b[1;32mIn[21], line 1\u001b[0m\n\u001b[1;32m----> 1\u001b[0m a,b,c, error_list1 \u001b[38;5;241m=\u001b[39m \u001b[43mgradienDescent\u001b[49m\u001b[43m(\u001b[49m\u001b[43mx_gen\u001b[49m\u001b[43m,\u001b[49m\u001b[43my_gen\u001b[49m\u001b[43m)\u001b[49m\n",
      "Cell \u001b[1;32mIn[19], line 9\u001b[0m, in \u001b[0;36mgradienDescent\u001b[1;34m(x, y, lr, batc_s)\u001b[0m\n\u001b[0;32m      7\u001b[0m \u001b[38;5;28;01mfor\u001b[39;00m mini \u001b[38;5;129;01min\u001b[39;00m miniBatches:\n\u001b[0;32m      8\u001b[0m     x_mini,y_mini \u001b[38;5;241m=\u001b[39m mini\n\u001b[1;32m----> 9\u001b[0m     a \u001b[38;5;241m=\u001b[39m a \u001b[38;5;241m-\u001b[39m lr\u001b[38;5;241m*\u001b[39m\u001b[43mgradient_a\u001b[49m\u001b[43m(\u001b[49m\u001b[43my_mini\u001b[49m\u001b[43m,\u001b[49m\u001b[43ma\u001b[49m\u001b[43m,\u001b[49m\u001b[43mx_mini\u001b[49m\u001b[43m,\u001b[49m\u001b[43mb\u001b[49m\u001b[43m,\u001b[49m\u001b[43mc\u001b[49m\u001b[43m)\u001b[49m\n\u001b[0;32m     10\u001b[0m     b \u001b[38;5;241m=\u001b[39m b \u001b[38;5;241m-\u001b[39m lr\u001b[38;5;241m*\u001b[39mgradient_b(y_mini,a,x_mini,b,c)\n\u001b[0;32m     11\u001b[0m     c \u001b[38;5;241m=\u001b[39m c \u001b[38;5;241m-\u001b[39m lr\u001b[38;5;241m*\u001b[39mgradient_c(y_mini,a,x_mini,b,c)\n",
      "Cell \u001b[1;32mIn[17], line 11\u001b[0m, in \u001b[0;36mgradient_a\u001b[1;34m(y, a, x, b, c)\u001b[0m\n\u001b[0;32m      9\u001b[0m \u001b[38;5;28;01mdef\u001b[39;00m \u001b[38;5;21mgradient_a\u001b[39m(y,a,x,b,c):\n\u001b[0;32m     10\u001b[0m     h \u001b[38;5;241m=\u001b[39m hypothesis(a,x,b,c)\n\u001b[1;32m---> 11\u001b[0m     grada \u001b[38;5;241m=\u001b[39m (\u001b[43mh\u001b[49m\u001b[43m \u001b[49m\u001b[38;5;241;43m-\u001b[39;49m\u001b[43m \u001b[49m\u001b[43my\u001b[49m)\u001b[38;5;241m*\u001b[39mnp\u001b[38;5;241m.\u001b[39msqrt(x)\n\u001b[0;32m     12\u001b[0m     \u001b[38;5;28;01mreturn\u001b[39;00m \u001b[38;5;241m2\u001b[39m\u001b[38;5;241m*\u001b[39mnp\u001b[38;5;241m.\u001b[39mmean(grada)\n",
      "\u001b[1;31mValueError\u001b[0m: operands could not be broadcast together with shapes (50,2) (50,) "
     ]
    }
   ],
   "source": [
    "a,b,c, error_list1 = gradienDescent(x_gen,y_gen)"
   ]
  },
  {
   "cell_type": "code",
   "execution_count": 22,
   "metadata": {},
   "outputs": [],
   "source": [
    "import matplotlib.pyplot as plt"
   ]
  },
  {
   "cell_type": "code",
   "execution_count": 400,
   "metadata": {},
   "outputs": [
    {
     "data": {
      "text/plain": [
       "[<matplotlib.lines.Line2D at 0x2aca423a990>]"
      ]
     },
     "execution_count": 400,
     "metadata": {},
     "output_type": "execute_result"
    },
    {
     "data": {
      "image/png": "[encoded data removed]",
      "text/plain": [
       "<Figure size 640x480 with 1 Axes>"
      ]
     },
     "metadata": {},
     "output_type": "display_data"
    }
   ],
   "source": [
    "plt.plot(error_list1)"
   ]
  },
  {
   "cell_type": "code",
   "execution_count": null,
   "metadata": {},
   "outputs": [],
   "source": []
  },
  {
   "cell_type": "code",
   "execution_count": null,
   "metadata": {},
   "outputs": [],
   "source": []
  }
 ],
 "metadata": {
  "kernelspec": {
   "display_name": "Python 3",
   "language": "python",
   "name": "python3"
  },
  "language_info": {
   "codemirror_mode": {
    "name": "ipython",
    "version": 3
   },
   "file_extension": ".py",
   "mimetype": "text/x-python",
   "name": "python",
   "nbconvert_exporter": "python",
   "pygments_lexer": "ipython3",
   "version": "3.11.5"
  }
 },
 "nbformat": 4,
 "nbformat_minor": 2
}
