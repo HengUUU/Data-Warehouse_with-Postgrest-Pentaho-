{
 "cells": [
  {
   "cell_type": "code",
   "execution_count": 2,
   "metadata": {},
   "outputs": [],
   "source": [
    "import numpy as np\n",
    "import pandas as pd\n",
    "\n",
    "# Set a random seed for reproducibility\n",
    "np.random.seed(42)\n",
    "\n",
    "# Generate 500 random values for X (independent variable) between 0 and 10\n",
    "X = 10 * np.random.rand(500, 1)\n",
    "\n",
    "# Define the true linear relationship: y = 5 + 2.5 * X + noise\n",
    "true_slope = 2.5\n",
    "true_intercept = 5\n",
    "noise = np.random.randn(500, 1)  # Add some noise for realism\n",
    "\n",
    "# Generate the dependent variable y\n",
    "y = true_intercept + true_slope * X + noise\n",
    "\n",
    "# Combine X and y into a DataFrame\n",
    "dataset = pd.DataFrame(np.c_[X, y], columns=['X', 'y'])\n",
    "dataset = dataset.to_numpy()\n",
    "# Show the first few rows of the dataset\n",
    "dataset = np.hstack((np.ones((dataset.shape[0],1)), dataset))\n",
    "\n",
    "x_gen = dataset[:,:-1]\n",
    "y_gen = dataset[:,-1].reshape(-1,1)\n",
    "# Save to a CSV file if needed\n",
    "# dataset.to_csv(\"linear_regression_dataset.csv\", index=False)"
   ]
  },
  {
   "cell_type": "code",
   "execution_count": 4,
   "metadata": {},
   "outputs": [],
   "source": [
    "def create_min_batches(x,y,batch_size):\n",
    "    mini_batches = []\n",
    "    data = np.hstack((x,y))\n",
    "    np.random.shuffle(data)"
   ]
  },
  {
   "cell_type": "code",
   "execution_count": null,
   "metadata": {},
   "outputs": [],
   "source": []
  }
 ],
 "metadata": {
  "kernelspec": {
   "display_name": "Python 3",
   "language": "python",
   "name": "python3"
  },
  "language_info": {
   "codemirror_mode": {
    "name": "ipython",
    "version": 3
   },
   "file_extension": ".py",
   "mimetype": "text/x-python",
   "name": "python",
   "nbconvert_exporter": "python",
   "pygments_lexer": "ipython3",
   "version": "3.11.5"
  }
 },
 "nbformat": 4,
 "nbformat_minor": 2
}
