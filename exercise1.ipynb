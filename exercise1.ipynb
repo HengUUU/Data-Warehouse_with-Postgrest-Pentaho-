{
 "cells": [
  {
   "cell_type": "code",
   "execution_count": 1,
   "metadata": {},
   "outputs": [],
   "source": [
    "import pandas as pd\n",
    "import torch\n",
    "import torch.optim as optim"
   ]
  },
  {
   "cell_type": "code",
   "execution_count": 2,
   "metadata": {},
   "outputs": [
    {
     "data": {
      "text/html": [
       "<div>\n",
       "<style scoped>\n",
       "    .dataframe tbody tr th:only-of-type {\n",
       "        vertical-align: middle;\n",
       "    }\n",
       "\n",
       "    .dataframe tbody tr th {\n",
       "        vertical-align: top;\n",
       "    }\n",
       "\n",
       "    .dataframe thead th {\n",
       "        text-align: right;\n",
       "    }\n",
       "</style>\n",
       "<table border=\"1\" class=\"dataframe\">\n",
       "  <thead>\n",
       "    <tr style=\"text-align: right;\">\n",
       "      <th></th>\n",
       "      <th>land_area</th>\n",
       "      <th>price</th>\n",
       "    </tr>\n",
       "  </thead>\n",
       "  <tbody>\n",
       "    <tr>\n",
       "      <th>0</th>\n",
       "      <td>129</td>\n",
       "      <td>140.9</td>\n",
       "    </tr>\n",
       "    <tr>\n",
       "      <th>1</th>\n",
       "      <td>214</td>\n",
       "      <td>200.3</td>\n",
       "    </tr>\n",
       "    <tr>\n",
       "      <th>2</th>\n",
       "      <td>343</td>\n",
       "      <td>280.4</td>\n",
       "    </tr>\n",
       "    <tr>\n",
       "      <th>3</th>\n",
       "      <td>387</td>\n",
       "      <td>298.8</td>\n",
       "    </tr>\n",
       "    <tr>\n",
       "      <th>4</th>\n",
       "      <td>454</td>\n",
       "      <td>358.2</td>\n",
       "    </tr>\n",
       "    <tr>\n",
       "      <th>5</th>\n",
       "      <td>565</td>\n",
       "      <td>414.3</td>\n",
       "    </tr>\n",
       "    <tr>\n",
       "      <th>6</th>\n",
       "      <td>675</td>\n",
       "      <td>484.2</td>\n",
       "    </tr>\n",
       "    <tr>\n",
       "      <th>7</th>\n",
       "      <td>798</td>\n",
       "      <td>561.4</td>\n",
       "    </tr>\n",
       "    <tr>\n",
       "      <th>8</th>\n",
       "      <td>879</td>\n",
       "      <td>593.7</td>\n",
       "    </tr>\n",
       "    <tr>\n",
       "      <th>9</th>\n",
       "      <td>1016</td>\n",
       "      <td>690.9</td>\n",
       "    </tr>\n",
       "    <tr>\n",
       "      <th>10</th>\n",
       "      <td>1095</td>\n",
       "      <td>730.2</td>\n",
       "    </tr>\n",
       "    <tr>\n",
       "      <th>11</th>\n",
       "      <td>1222</td>\n",
       "      <td>791.9</td>\n",
       "    </tr>\n",
       "    <tr>\n",
       "      <th>12</th>\n",
       "      <td>1272</td>\n",
       "      <td>823.7</td>\n",
       "    </tr>\n",
       "    <tr>\n",
       "      <th>13</th>\n",
       "      <td>1429</td>\n",
       "      <td>919.2</td>\n",
       "    </tr>\n",
       "    <tr>\n",
       "      <th>14</th>\n",
       "      <td>1467</td>\n",
       "      <td>941.8</td>\n",
       "    </tr>\n",
       "    <tr>\n",
       "      <th>15</th>\n",
       "      <td>1593</td>\n",
       "      <td>1009.7</td>\n",
       "    </tr>\n",
       "    <tr>\n",
       "      <th>16</th>\n",
       "      <td>1661</td>\n",
       "      <td>1054.0</td>\n",
       "    </tr>\n",
       "    <tr>\n",
       "      <th>17</th>\n",
       "      <td>1773</td>\n",
       "      <td>1108.9</td>\n",
       "    </tr>\n",
       "    <tr>\n",
       "      <th>18</th>\n",
       "      <td>1946</td>\n",
       "      <td>1217.9</td>\n",
       "    </tr>\n",
       "    <tr>\n",
       "      <th>19</th>\n",
       "      <td>2046</td>\n",
       "      <td>1271.0</td>\n",
       "    </tr>\n",
       "    <tr>\n",
       "      <th>20</th>\n",
       "      <td>2115</td>\n",
       "      <td>1299.9</td>\n",
       "    </tr>\n",
       "    <tr>\n",
       "      <th>21</th>\n",
       "      <td>2235</td>\n",
       "      <td>1368.3</td>\n",
       "    </tr>\n",
       "    <tr>\n",
       "      <th>22</th>\n",
       "      <td>2337</td>\n",
       "      <td>1433.6</td>\n",
       "    </tr>\n",
       "    <tr>\n",
       "      <th>23</th>\n",
       "      <td>2391</td>\n",
       "      <td>1464.4</td>\n",
       "    </tr>\n",
       "    <tr>\n",
       "      <th>24</th>\n",
       "      <td>2516</td>\n",
       "      <td>1524.0</td>\n",
       "    </tr>\n",
       "    <tr>\n",
       "      <th>25</th>\n",
       "      <td>2564</td>\n",
       "      <td>1552.8</td>\n",
       "    </tr>\n",
       "    <tr>\n",
       "      <th>26</th>\n",
       "      <td>2669</td>\n",
       "      <td>1608.6</td>\n",
       "    </tr>\n",
       "    <tr>\n",
       "      <th>27</th>\n",
       "      <td>2781</td>\n",
       "      <td>1662.6</td>\n",
       "    </tr>\n",
       "    <tr>\n",
       "      <th>28</th>\n",
       "      <td>2875</td>\n",
       "      <td>1730.4</td>\n",
       "    </tr>\n",
       "    <tr>\n",
       "      <th>29</th>\n",
       "      <td>3001</td>\n",
       "      <td>1793.6</td>\n",
       "    </tr>\n",
       "  </tbody>\n",
       "</table>\n",
       "</div>"
      ],
      "text/plain": [
       "    land_area   price\n",
       "0         129   140.9\n",
       "1         214   200.3\n",
       "2         343   280.4\n",
       "3         387   298.8\n",
       "4         454   358.2\n",
       "5         565   414.3\n",
       "6         675   484.2\n",
       "7         798   561.4\n",
       "8         879   593.7\n",
       "9        1016   690.9\n",
       "10       1095   730.2\n",
       "11       1222   791.9\n",
       "12       1272   823.7\n",
       "13       1429   919.2\n",
       "14       1467   941.8\n",
       "15       1593  1009.7\n",
       "16       1661  1054.0\n",
       "17       1773  1108.9\n",
       "18       1946  1217.9\n",
       "19       2046  1271.0\n",
       "20       2115  1299.9\n",
       "21       2235  1368.3\n",
       "22       2337  1433.6\n",
       "23       2391  1464.4\n",
       "24       2516  1524.0\n",
       "25       2564  1552.8\n",
       "26       2669  1608.6\n",
       "27       2781  1662.6\n",
       "28       2875  1730.4\n",
       "29       3001  1793.6"
      ]
     },
     "execution_count": 2,
     "metadata": {},
     "output_type": "execute_result"
    }
   ],
   "source": [
    "df = pd.read_csv(\"data_1.1.csv\")\n",
    "df"
   ]
  },
  {
   "cell_type": "code",
   "execution_count": 3,
   "metadata": {},
   "outputs": [],
   "source": [
    "y = df[\"price\"]\n",
    "x = df[\"land_area\"]"
   ]
  },
  {
   "cell_type": "code",
   "execution_count": 4,
   "metadata": {},
   "outputs": [
    {
     "name": "stdout",
     "output_type": "stream",
     "text": [
      "tensor([ 129.,  214.,  343.,  387.,  454.,  565.,  675.,  798.,  879., 1016.,\n",
      "        1095., 1222., 1272., 1429., 1467., 1593., 1661., 1773., 1946., 2046.,\n",
      "        2115., 2235., 2337., 2391., 2516., 2564., 2669., 2781., 2875., 3001.])\n",
      "tensor([ 140.9000,  200.3000,  280.4000,  298.8000,  358.2000,  414.3000,\n",
      "         484.2000,  561.4000,  593.7000,  690.9000,  730.2000,  791.9000,\n",
      "         823.7000,  919.2000,  941.8000, 1009.7000, 1054.0000, 1108.9000,\n",
      "        1217.9000, 1271.0000, 1299.9000, 1368.3000, 1433.6000, 1464.4000,\n",
      "        1524.0000, 1552.8000, 1608.6000, 1662.6000, 1730.4000, 1793.6000])\n"
     ]
    },
    {
     "data": {
      "text/plain": [
       "1095.0"
      ]
     },
     "execution_count": 4,
     "metadata": {},
     "output_type": "execute_result"
    }
   ],
   "source": [
    "tx = torch.tensor(x, dtype=torch.float32)\n",
    "print(tx)\n",
    "ty = torch.tensor(y, dtype=torch.float32)\n",
    "print(ty)\n",
    "\n",
    "tx[10].item()"
   ]
  },
  {
   "cell_type": "code",
   "execution_count": 5,
   "metadata": {},
   "outputs": [
    {
     "data": {
      "text/plain": [
       "30"
      ]
     },
     "execution_count": 5,
     "metadata": {},
     "output_type": "execute_result"
    }
   ],
   "source": [
    "ty.size(0)"
   ]
  },
  {
   "cell_type": "markdown",
   "metadata": {},
   "source": [
    "Q1: Simple linear regression: h"
   ]
  },
  {
   "cell_type": "code",
   "execution_count": 6,
   "metadata": {},
   "outputs": [
    {
     "name": "stdout",
     "output_type": "stream",
     "text": [
      "277175936.0\n",
      "1062034735104.0\n",
      "4069347026796544.0\n",
      "1.5592315130979811e+19\n",
      "5.97443248147324e+22\n",
      "2.289194822687171e+26\n",
      "8.771396040831256e+29\n",
      "3.3608930066911834e+33\n",
      "inf\n",
      "inf\n"
     ]
    }
   ],
   "source": [
    "theta_0 = torch.tensor(10, dtype = torch.float32, requires_grad= True)\n",
    "theta_1 = torch.tensor(10, dtype = torch.float32, requires_grad= True)\n",
    "lr = 0.00001 ## test\n",
    "n_iter = 10\n",
    "optimizer = optim.SGD([theta_0, theta_1], lr = lr)\n",
    "\n",
    "for i in range(n_iter):\n",
    "    h = theta_0 + theta_1*tx\n",
    "    j = 1/ty.size(0) * torch.sum((h - ty)**2)\n",
    "\n",
    "    print(j.item())\n",
    "    j.backward()\n",
    "    optimizer.step()\n",
    "    optimizer.zero_grad()\n"
   ]
  },
  {
   "cell_type": "code",
   "execution_count": null,
   "metadata": {},
   "outputs": [],
   "source": []
  }
 ],
 "metadata": {
  "kernelspec": {
   "display_name": "Python 3",
   "language": "python",
   "name": "python3"
  },
  "language_info": {
   "codemirror_mode": {
    "name": "ipython",
    "version": 3
   },
   "file_extension": ".py",
   "mimetype": "text/x-python",
   "name": "python",
   "nbconvert_exporter": "python",
   "pygments_lexer": "ipython3",
   "version": "3.11.5"
  }
 },
 "nbformat": 4,
 "nbformat_minor": 2
}
